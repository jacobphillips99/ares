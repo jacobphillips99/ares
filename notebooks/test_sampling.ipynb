{
 "cells": [
  {
   "cell_type": "code",
   "execution_count": null,
   "metadata": {},
   "outputs": [],
   "source": [
    "from ares.sampling_bias import sampling_bias, linear_sampling_bias, exponential_sampling_bias, threshold_sampling_bias"
   ]
  },
  {
   "cell_type": "code",
   "execution_count": null,
   "metadata": {},
   "outputs": [],
   "source": [
    "import numpy as np"
   ]
  },
  {
   "cell_type": "code",
   "execution_count": null,
   "metadata": {},
   "outputs": [],
   "source": [
    "def uniform_sampling_bias(input_n_frames: int, output_n_frames: int) -> list[int]:\n",
    "    # each frame chosen independently with equal probability such that expected number is output_n_frames\n",
    "    prob_chosen = output_n_frames / input_n_frames\n",
    "    return [x for x in range(input_n_frames) if np.random.rand() < prob_chosen]"
   ]
  },
  {
   "cell_type": "code",
   "execution_count": null,
   "metadata": {},
   "outputs": [],
   "source": [
    "!pip install matplotlib --index-url=https://pypi.org/simple"
   ]
  },
  {
   "cell_type": "code",
   "execution_count": null,
   "metadata": {},
   "outputs": [],
   "source": [
    "import matplotlib.pyplot as plt"
   ]
  },
  {
   "cell_type": "code",
   "execution_count": null,
   "metadata": {},
   "outputs": [],
   "source": [
    "INPUT_N_FRAMES = 300\n",
    "OUTPUT_N_FRAMES = 50\n",
    "\n",
    "def test_sampling_bias(fn, **kwargs):\n",
    "    samples = []\n",
    "    N = 1000  # Number of sampling runs\n",
    "    for _ in range(N):\n",
    "        these_inp_frames = np.random.randint(INPUT_N_FRAMES, INPUT_N_FRAMES + 200)\n",
    "        output_frames = fn(these_inp_frames, OUTPUT_N_FRAMES, **kwargs)\n",
    "        output_frames = [x/these_inp_frames for x in output_frames]\n",
    "        samples.extend(output_frames)\n",
    "    out = plt.hist(np.array(samples), bins=50, density=True)\n",
    "    plt.title(f\"{fn.__name__} {kwargs} frame sampling density\")\n",
    "    plt.show()\n"
   ]
  },
  {
   "cell_type": "code",
   "execution_count": null,
   "metadata": {},
   "outputs": [],
   "source": [
    "test_sampling_bias(exponential_sampling_bias, rate=0.1)\n"
   ]
  }
 ],
 "metadata": {
  "kernelspec": {
   "display_name": "Python 3",
   "language": "python",
   "name": "python3"
  },
  "language_info": {
   "codemirror_mode": {
    "name": "ipython",
    "version": 3
   },
   "file_extension": ".py",
   "mimetype": "text/x-python",
   "name": "python",
   "nbconvert_exporter": "python",
   "pygments_lexer": "ipython3",
   "version": "3.10.15"
  }
 },
 "nbformat": 4,
 "nbformat_minor": 2
}
