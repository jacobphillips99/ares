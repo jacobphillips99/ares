{
 "cells": [
  {
   "cell_type": "code",
   "execution_count": null,
   "metadata": {},
   "outputs": [],
   "source": [
    "%load_ext autoreload\n",
    "%autoreload 2"
   ]
  },
  {
   "cell_type": "code",
   "execution_count": 140,
   "metadata": {},
   "outputs": [],
   "source": [
    "import pickle\n",
    "from ares.databases.annotation_database import AnnotationDatabase, TEST_ANNOTATION_DB_PATH\n",
    "from ares.image_utils import load_video_frames\n",
    "\n",
    "from ares.app.annotation_helpers import draw_annotations\n",
    "import matplotlib.pyplot as plt\n",
    "from ares.configs.annotations import Annotation\n",
    "import numpy as np\n",
    "\n",
    "\n",
    "target_fps = 1\n",
    "db = AnnotationDatabase(connection_string=TEST_ANNOTATION_DB_PATH)\n",
    "peek = db.peek_database()"
   ]
  },
  {
   "cell_type": "code",
   "execution_count": null,
   "metadata": {},
   "outputs": [],
   "source": [
    "peek['videos'][3]"
   ]
  },
  {
   "cell_type": "code",
   "execution_count": 142,
   "metadata": {},
   "outputs": [],
   "source": [
    "from collections import defaultdict\n",
    "\n",
    "def display_annotations(annotations, frames, frame_indices):\n",
    "    annotation_dict = defaultdict(list)\n",
    "    for annotation in annotations:\n",
    "        frame_num = int(annotation[\"key\"].split(\"_\")[1]) # \"frame_N_annotation\"\n",
    "        annotation_dict[frame_num].append(annotation)\n",
    "\n",
    "    shared_frame_indices = sorted(set(annotation_dict.keys()) & set(frame_indices))\n",
    "    side_len = int(np.ceil(np.sqrt(len(shared_frame_indices))))  # Calculate grid dimensions\n",
    "\n",
    "    # Create a figure with subplots in a square grid\n",
    "    fig = plt.figure(figsize=(15, 15))\n",
    "    for i, frame_idx in enumerate(shared_frame_indices):\n",
    "        frame_anns = [Annotation(**ann['value']) for ann in annotation_dict[frame_idx]]\n",
    "        frame_num = frame_indices.index(frame_idx)\n",
    "        im = draw_annotations(frames[frame_num], frame_anns)\n",
    "        \n",
    "        # Create subplot in grid\n",
    "        plt.subplot(side_len, side_len, i + 1)\n",
    "        plt.title(f\"Frame idx {frame_idx}\")\n",
    "        plt.axis('off')\n",
    "        plt.imshow(im)\n",
    "\n",
    "    plt.tight_layout()\n",
    "    plt.show()"
   ]
  },
  {
   "cell_type": "code",
   "execution_count": 143,
   "metadata": {},
   "outputs": [],
   "source": [
    "def get_and_display(dataset_name, fname, target_fps):\n",
    "    frames, frame_indices = load_video_frames(dataset_name, fname, target_fps)\n",
    "    video_id = f\"{dataset_name}/{fname}\"\n",
    "    annotations = db.get_annotations(video_id=video_id)\n",
    "    video_data = db.get_video_metadata(video_id=video_id)\n",
    "    print(video_data['label_str'])\n",
    "    display_annotations(annotations, frames, frame_indices)"
   ]
  },
  {
   "cell_type": "code",
   "execution_count": 144,
   "metadata": {},
   "outputs": [],
   "source": [
    "# dataset_name = \"cmu_play_fusion\"\n",
    "# fname = \"data/train/episode_208.mp4\"\n",
    "\n",
    "dataset_name = \"ucsd_kitchen_dataset_converted_externally_to_rlds\"\n",
    "fnames = [f\"data/train/episode_{i}.mp4\" for i in range(10, 20)]\n"
   ]
  },
  {
   "cell_type": "code",
   "execution_count": null,
   "metadata": {},
   "outputs": [],
   "source": [
    "for fname in fnames: \n",
    "    get_and_display(dataset_name, fname, target_fps)"
   ]
  }
 ],
 "metadata": {
  "kernelspec": {
   "display_name": "Python 3",
   "language": "python",
   "name": "python3"
  },
  "language_info": {
   "codemirror_mode": {
    "name": "ipython",
    "version": 3
   },
   "file_extension": ".py",
   "mimetype": "text/x-python",
   "name": "python",
   "nbconvert_exporter": "python",
   "pygments_lexer": "ipython3",
   "version": "3.10.15"
  }
 },
 "nbformat": 4,
 "nbformat_minor": 2
}
