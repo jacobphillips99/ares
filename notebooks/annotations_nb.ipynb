{
 "cells": [
  {
   "cell_type": "code",
   "execution_count": null,
   "metadata": {},
   "outputs": [],
   "source": [
    "%load_ext autoreload\n",
    "%autoreload 2"
   ]
  },
  {
   "cell_type": "code",
   "execution_count": null,
   "metadata": {},
   "outputs": [],
   "source": [
    "import pickle\n",
    "from ares.databases.annotation_database import AnnotationDatabase, TEST_ANNOTATION_DB_PATH\n",
    "from ares.image_utils import load_video_frames\n",
    "\n",
    "dataset_name = \"cmu_play_fusion\"\n",
    "fname = \"data/train/episode_208.mp4\"\n",
    "video_id = f\"{dataset_name}/{fname}\"\n",
    "target_fps = 1\n",
    "\n",
    "db = AnnotationDatabase(connection_string=TEST_ANNOTATION_DB_PATH)\n",
    "frames, frame_indices = load_video_frames(dataset_name, fname, target_fps)\n",
    "annotations = db.get_annotations(video_id=video_id)\n"
   ]
  },
  {
   "cell_type": "code",
   "execution_count": 17,
   "metadata": {},
   "outputs": [],
   "source": [
    "from collections import defaultdict\n",
    "\n",
    "annotation_dict = defaultdict(list)\n",
    "for annotation in annotations:\n",
    "    frame_num = int(annotation[\"key\"].split(\"_\")[1]) # \"frame_N_annotation\"\n",
    "    annotation_dict[frame_num].append(annotation)"
   ]
  },
  {
   "cell_type": "code",
   "execution_count": null,
   "metadata": {},
   "outputs": [],
   "source": [
    "print( f\"ann keys: {annotation_dict.keys()}\")\n",
    "print(f\"frame keys: {frame_indices}\")\n"
   ]
  },
  {
   "cell_type": "code",
   "execution_count": null,
   "metadata": {},
   "outputs": [],
   "source": [
    "annotations[0]"
   ]
  },
  {
   "cell_type": "code",
   "execution_count": null,
   "metadata": {},
   "outputs": [],
   "source": [
    "from ares.app.annotation_helpers import draw_annotations\n",
    "import matplotlib.pyplot as plt\n",
    "from ares.configs.annotations import Annotation\n",
    "\n",
    "for frame_idx in set(annotation_dict.keys()) & set(frame_indices):\n",
    "    annotations = [Annotation(**ann['value']) for ann in annotation_dict[frame_idx]]\n",
    "    frame_num = frame_indices.index(frame_idx)\n",
    "    im = draw_annotations(frames[frame_num], annotations)\n",
    "    plt.title(f\"Frame idx {frame_idx}\")\n",
    "    plt.imshow(im)\n",
    "    plt.show()\n",
    "\n"
   ]
  }
 ],
 "metadata": {
  "kernelspec": {
   "display_name": "Python 3",
   "language": "python",
   "name": "python3"
  },
  "language_info": {
   "codemirror_mode": {
    "name": "ipython",
    "version": 3
   },
   "file_extension": ".py",
   "mimetype": "text/x-python",
   "name": "python",
   "nbconvert_exporter": "python",
   "pygments_lexer": "ipython3",
   "version": "3.10.15"
  }
 },
 "nbformat": 4,
 "nbformat_minor": 2
}
