{
 "cells": [
  {
   "cell_type": "code",
   "execution_count": 1,
   "metadata": {},
   "outputs": [],
   "source": [
    "import tensorflow_datasets as tfds\n",
    "import numpy as np\n",
    "from PIL import Image\n",
    "from IPython import display\n",
    "import imageio\n",
    "import os"
   ]
  },
  {
   "cell_type": "markdown",
   "metadata": {},
   "source": []
  },
  {
   "cell_type": "code",
   "execution_count": 2,
   "metadata": {},
   "outputs": [],
   "source": [
    "ucsd_kitchen_dataset_name = \"ucsd_kitchen_dataset_converted_externally_to_rlds\"\n",
    "cmu_play_fusion_dataset_name = \"cmu_play_fusion\"\n",
    "\n",
    "data_dir = \"/workspaces/ares/data/\""
   ]
  },
  {
   "cell_type": "code",
   "execution_count": null,
   "metadata": {},
   "outputs": [],
   "source": [
    "builder = tfds.builder(ucsd_kitchen_dataset_name, data_dir=data_dir)\n",
    "builder.download_and_prepare()\n"
   ]
  },
  {
   "cell_type": "code",
   "execution_count": 24,
   "metadata": {},
   "outputs": [],
   "source": [
    "datasets = builder.as_dataset()\n",
    "ds = datasets[\"train\"]"
   ]
  },
  {
   "cell_type": "code",
   "execution_count": null,
   "metadata": {},
   "outputs": [],
   "source": [
    "!pip install imageio[ffmpeg]"
   ]
  },
  {
   "cell_type": "code",
   "execution_count": 26,
   "metadata": {},
   "outputs": [],
   "source": [
    "import matplotlib.pyplot as plt\n",
    "from PIL import Image\n",
    "from IPython import display\n",
    "\n",
    "def create_episode_gif(episode, output_path='episode.gif', frame_duration=500):\n",
    "    images = []\n",
    "    \n",
    "    # Clear any existing plots and set up the matplotlib backend\n",
    "    plt.close('all')\n",
    "    %matplotlib inline\n",
    "    \n",
    "    print(f\"Creating GIF for {len(episode['steps'])} frames...\")\n",
    "    steps = list(episode['steps'])\n",
    "    \n",
    "    for i, step in enumerate(steps):\n",
    "        # Show progress\n",
    "        \n",
    "        # if in the last 20 frames, show every other\n",
    "        if (len(steps) - i) > 10:\n",
    "            # show at most 10 total frames from before the last 10 frames\n",
    "            if (i % (len(steps) // 10)) != 0:\n",
    "                continue\n",
    "        else:\n",
    "            # show every other frame\n",
    "            if (i % 2) != 0:\n",
    "                continue\n",
    "\n",
    "        # display.clear_output(wait=True)\n",
    "        print(f\"Processing frame {i+1}/{len(steps)}...\")\n",
    "        \n",
    "        img = Image.fromarray(step[\"observation\"][\"image\"].numpy())\n",
    "        lang_instruction = step[\"language_instruction\"].numpy().decode().lower()\n",
    "        timestep = i\n",
    "        state_str = f\"is_first: {step['is_first']}, is_last: {step['is_last']}, is_terminal: {step['is_terminal']}\"\n",
    "        \n",
    "        # Create figure with adequate size and margins\n",
    "        fig = plt.figure(figsize=(10,8), dpi=100)\n",
    "        plt.subplots_adjust(top=0.85)\n",
    "        \n",
    "        # Display the image\n",
    "        plt.imshow(img)\n",
    "        plt.axis('off')\n",
    "        \n",
    "        # Add title with proper wrapping\n",
    "        plt.title(f\"{lang_instruction}\\n{timestep}/{len(steps)}\\n{state_str}\", \n",
    "                 wrap=True, \n",
    "                 pad=20,\n",
    "                 fontsize=12)\n",
    "        \n",
    "        # Convert to image\n",
    "        fig.canvas.draw()\n",
    "        img_with_title = Image.frombytes('RGB', \n",
    "                                       fig.canvas.get_width_height(),\n",
    "                                       fig.canvas.tostring_rgb())\n",
    "        \n",
    "        images.append(img_with_title)\n",
    "        plt.close(fig)  # Important in Jupyter to prevent memory leaks\n",
    "    \n",
    "    # Save as animated GIF\n",
    "    # images[0].save(\n",
    "    #     output_path + \".gif\",\n",
    "    #     save_all=True,\n",
    "    #     append_images=images[1:],\n",
    "    #     duration=frame_duration,\n",
    "    #     loop=0\n",
    "    # )\n",
    "    # print(\"GIF created successfully! Saved to \", output_path)\n",
    "\n",
    "    # save as mp4\n",
    "    # Use imageio to save as MP4 instead of PIL\n",
    "    imageio.mimsave(\n",
    "        output_path + \".mp4\",\n",
    "        images,\n",
    "        fps=1000/frame_duration,  # Convert duration in ms to fps\n",
    "        macro_block_size=None  # Add this parameter to avoid FFMPEG errors\n",
    "    )\n",
    "    print(\"MP4 created successfully! Saved to \", output_path.replace(\".gif\", \".mp4\"))\n",
    "    \n",
    "    # Clear the progress output and show completion message\n",
    "    # display.clear_output(wait=True)\n",
    "    \n",
    "    # Display the final GIF\n",
    "    return output_path"
   ]
  },
  {
   "cell_type": "code",
   "execution_count": 27,
   "metadata": {},
   "outputs": [],
   "source": [
    "iter_ds = iter(ds)"
   ]
  },
  {
   "cell_type": "code",
   "execution_count": 8,
   "metadata": {},
   "outputs": [],
   "source": []
  },
  {
   "cell_type": "code",
   "execution_count": null,
   "metadata": {},
   "outputs": [],
   "source": [
    "\n",
    "output_dir = \"/tmp/episodes\"\n",
    "os.makedirs(output_dir, exist_ok=True)\n",
    "\n",
    "for i in range(10):\n",
    "    if i < 5:\n",
    "        continue\n",
    "    episode = next(iter_ds)\n",
    "    output_path = create_episode_gif(episode, output_path=os.path.join(output_dir, f\"episode_{i}\"))"
   ]
  },
  {
   "cell_type": "code",
   "execution_count": 29,
   "metadata": {},
   "outputs": [],
   "source": [
    "# display.Image(filename=output_path)"
   ]
  }
 ],
 "metadata": {
  "kernelspec": {
   "display_name": "Python 3",
   "language": "python",
   "name": "python3"
  },
  "language_info": {
   "codemirror_mode": {
    "name": "ipython",
    "version": 3
   },
   "file_extension": ".py",
   "mimetype": "text/x-python",
   "name": "python",
   "nbconvert_exporter": "python",
   "pygments_lexer": "ipython3",
   "version": "3.10.15"
  }
 },
 "nbformat": 4,
 "nbformat_minor": 2
}
