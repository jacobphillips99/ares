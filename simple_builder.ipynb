{
 "cells": [
  {
   "cell_type": "code",
   "execution_count": 11,
   "metadata": {},
   "outputs": [],
   "source": [
    "import tensorflow_datasets as tfds\n",
    "import numpy as np\n",
    "from PIL import Image\n",
    "from IPython import display\n",
    "\n"
   ]
  },
  {
   "cell_type": "code",
   "execution_count": 12,
   "metadata": {},
   "outputs": [],
   "source": [
    "ucsd_kitchen_dataset_name = \"ucsd_kitchen_dataset_converted_externally_to_rlds\"\n",
    "data_dir = \"/workspaces/ares/data\""
   ]
  },
  {
   "cell_type": "code",
   "execution_count": 13,
   "metadata": {},
   "outputs": [],
   "source": [
    "builder = tfds.builder(ucsd_kitchen_dataset_name, data_dir=data_dir)\n",
    "builder.download_and_prepare()\n"
   ]
  },
  {
   "cell_type": "code",
   "execution_count": 14,
   "metadata": {},
   "outputs": [],
   "source": [
    "datasets = builder.as_dataset()\n",
    "ds = datasets[\"train\"]"
   ]
  },
  {
   "cell_type": "code",
   "execution_count": 24,
   "metadata": {},
   "outputs": [],
   "source": [
    "import matplotlib.pyplot as plt\n",
    "from PIL import Image\n",
    "from IPython import display\n",
    "\n",
    "def create_episode_gif(episode, output_path='episode.gif', frame_duration=500):\n",
    "    images = []\n",
    "    \n",
    "    # Clear any existing plots and set up the matplotlib backend\n",
    "    plt.close('all')\n",
    "    %matplotlib inline\n",
    "    \n",
    "    print(\"Creating GIF...\")\n",
    "    \n",
    "    for i, step in enumerate(steps := list(episode['steps'])):\n",
    "        # Show progress\n",
    "        display.clear_output(wait=True)\n",
    "        print(f\"Processing frame {i+1}/{len(steps)}...\")\n",
    "        \n",
    "        img = Image.fromarray(step[\"observation\"][\"image\"].numpy())\n",
    "        lang_instruction = step[\"language_instruction\"]\n",
    "        timestep = i\n",
    "        state_str = f\"is_first: {step['is_first']}, is_last: {step['is_last']}, is_terminal: {step['is_terminal']}\"\n",
    "        \n",
    "        # Create figure with adequate size and margins\n",
    "        fig = plt.figure(figsize=(10, 8), dpi=100)\n",
    "        plt.subplots_adjust(top=0.85)\n",
    "        \n",
    "        # Display the image\n",
    "        plt.imshow(img)\n",
    "        plt.axis('off')\n",
    "        \n",
    "        # Add title with proper wrapping\n",
    "        plt.title(f\"{lang_instruction}\\n{timestep}/{len(steps)}\\n{state_str}\", \n",
    "                 wrap=True, \n",
    "                 pad=20,\n",
    "                 fontsize=12)\n",
    "        \n",
    "        # Convert to image\n",
    "        fig.canvas.draw()\n",
    "        img_with_title = Image.frombytes('RGB', \n",
    "                                       fig.canvas.get_width_height(),\n",
    "                                       fig.canvas.tostring_rgb())\n",
    "        \n",
    "        images.append(img_with_title)\n",
    "        plt.close(fig)  # Important in Jupyter to prevent memory leaks\n",
    "    \n",
    "    # Save as animated GIF\n",
    "    images[0].save(\n",
    "        output_path,\n",
    "        save_all=True,\n",
    "        append_images=images[1:],\n",
    "        duration=frame_duration,\n",
    "        loop=0\n",
    "    )\n",
    "    \n",
    "    # Clear the progress output and show completion message\n",
    "    display.clear_output(wait=True)\n",
    "    print(\"GIF created successfully!\")\n",
    "    \n",
    "    # Display the final GIF\n",
    "    return display.Image(filename=output_path)"
   ]
  },
  {
   "cell_type": "code",
   "execution_count": 16,
   "metadata": {},
   "outputs": [],
   "source": [
    "# def as_gif(steps, path='temp.gif'):\n",
    "#   display_key = 'image'\n",
    "#   images = [step['observation'][display_key] for step in steps]\n",
    "#   images = [Image.fromarray(image.numpy()) for image in images]\n",
    "\n",
    "#   # Render the images as the gif:\n",
    "#   images[0].save(path, save_all=True, append_images=images[1:], duration=1000, loop=0)\n",
    "#   gif_bytes = open(path,'rb').read()\n",
    "#   return gif_bytes"
   ]
  },
  {
   "cell_type": "code",
   "execution_count": 19,
   "metadata": {},
   "outputs": [],
   "source": [
    "iter_ds = iter(ds)"
   ]
  },
  {
   "cell_type": "code",
   "execution_count": 26,
   "metadata": {},
   "outputs": [],
   "source": [
    "episode = next(iter_ds)"
   ]
  },
  {
   "cell_type": "code",
   "execution_count": null,
   "metadata": {},
   "outputs": [],
   "source": [
    "create_episode_gif(episode)"
   ]
  },
  {
   "cell_type": "code",
   "execution_count": 22,
   "metadata": {},
   "outputs": [],
   "source": [
    "these_steps = list(episode['steps'])"
   ]
  },
  {
   "cell_type": "code",
   "execution_count": null,
   "metadata": {},
   "outputs": [],
   "source": [
    "these_steps[0]"
   ]
  }
 ],
 "metadata": {
  "kernelspec": {
   "display_name": "Python 3",
   "language": "python",
   "name": "python3"
  },
  "language_info": {
   "codemirror_mode": {
    "name": "ipython",
    "version": 3
   },
   "file_extension": ".py",
   "mimetype": "text/x-python",
   "name": "python",
   "nbconvert_exporter": "python",
   "pygments_lexer": "ipython3",
   "version": "3.10.15"
  }
 },
 "nbformat": 4,
 "nbformat_minor": 2
}
